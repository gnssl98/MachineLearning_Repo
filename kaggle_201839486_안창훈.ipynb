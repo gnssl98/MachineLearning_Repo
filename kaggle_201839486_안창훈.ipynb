{
  "nbformat": 4,
  "nbformat_minor": 0,
  "metadata": {
    "colab": {
      "name": "kaggle",
      "provenance": [],
      "authorship_tag": "ABX9TyMAkxYmJM3jfskhSYkMMm4f",
      "include_colab_link": true
    },
    "kernelspec": {
      "name": "python3",
      "display_name": "Python 3"
    }
  },
  "cells": [
    {
      "cell_type": "markdown",
      "metadata": {
        "id": "view-in-github",
        "colab_type": "text"
      },
      "source": [
        "<a href=\"https://colab.research.google.com/github/gnssl98/MachineLearning_Repo/blob/master/kaggle_201839486_%EC%95%88%EC%B0%BD%ED%9B%88.ipynb\" target=\"_parent\"><img src=\"https://colab.research.google.com/assets/colab-badge.svg\" alt=\"Open In Colab\"/></a>"
      ]
    },
    {
      "cell_type": "code",
      "metadata": {
        "id": "Pqk4AE6Bjcpo",
        "colab_type": "code",
        "colab": {
          "base_uri": "https://localhost:8080/",
          "height": 210
        },
        "outputId": "98cc5dce-0a9c-49c0-a2a5-4d62d99ea246"
      },
      "source": [
        "pip install kaggle --upgrade"
      ],
      "execution_count": 1,
      "outputs": [
        {
          "output_type": "stream",
          "text": [
            "Requirement already up-to-date: kaggle in /usr/local/lib/python3.6/dist-packages (1.5.6)\n",
            "Requirement already satisfied, skipping upgrade: python-slugify in /usr/local/lib/python3.6/dist-packages (from kaggle) (4.0.0)\n",
            "Requirement already satisfied, skipping upgrade: certifi in /usr/local/lib/python3.6/dist-packages (from kaggle) (2020.6.20)\n",
            "Requirement already satisfied, skipping upgrade: six>=1.10 in /usr/local/lib/python3.6/dist-packages (from kaggle) (1.12.0)\n",
            "Requirement already satisfied, skipping upgrade: requests in /usr/local/lib/python3.6/dist-packages (from kaggle) (2.23.0)\n",
            "Requirement already satisfied, skipping upgrade: urllib3<1.25,>=1.21.1 in /usr/local/lib/python3.6/dist-packages (from kaggle) (1.24.3)\n",
            "Requirement already satisfied, skipping upgrade: python-dateutil in /usr/local/lib/python3.6/dist-packages (from kaggle) (2.8.1)\n",
            "Requirement already satisfied, skipping upgrade: tqdm in /usr/local/lib/python3.6/dist-packages (from kaggle) (4.41.1)\n",
            "Requirement already satisfied, skipping upgrade: text-unidecode>=1.3 in /usr/local/lib/python3.6/dist-packages (from python-slugify->kaggle) (1.3)\n",
            "Requirement already satisfied, skipping upgrade: idna<3,>=2.5 in /usr/local/lib/python3.6/dist-packages (from requests->kaggle) (2.9)\n",
            "Requirement already satisfied, skipping upgrade: chardet<4,>=3.0.2 in /usr/local/lib/python3.6/dist-packages (from requests->kaggle) (3.0.4)\n"
          ],
          "name": "stdout"
        }
      ]
    },
    {
      "cell_type": "code",
      "metadata": {
        "id": "TO_P2JyCkS1q",
        "colab_type": "code",
        "colab": {
          "base_uri": "https://localhost:8080/",
          "height": 125
        },
        "outputId": "47e695a9-0fb1-47d1-8b0b-80b945d9d5a4"
      },
      "source": [
        "from google.colab import drive\n",
        "drive.mount('/content/g')"
      ],
      "execution_count": 2,
      "outputs": [
        {
          "output_type": "stream",
          "text": [
            "Go to this URL in a browser: https://accounts.google.com/o/oauth2/auth?client_id=947318989803-6bn6qk8qdgf4n4g3pfee6491hc0brc4i.apps.googleusercontent.com&redirect_uri=urn%3aietf%3awg%3aoauth%3a2.0%3aoob&response_type=code&scope=email%20https%3a%2f%2fwww.googleapis.com%2fauth%2fdocs.test%20https%3a%2f%2fwww.googleapis.com%2fauth%2fdrive%20https%3a%2f%2fwww.googleapis.com%2fauth%2fdrive.photos.readonly%20https%3a%2f%2fwww.googleapis.com%2fauth%2fpeopleapi.readonly\n",
            "\n",
            "Enter your authorization code:\n",
            "··········\n",
            "Mounted at /content/g\n"
          ],
          "name": "stdout"
        }
      ]
    },
    {
      "cell_type": "code",
      "metadata": {
        "id": "-0FXn0HFkfrk",
        "colab_type": "code",
        "colab": {}
      },
      "source": [
        "!mkdir -p ~/.kaggle\n",
        "!cp \"/content/g/My Drive/2020_Kaggle/kaggle.json\" ~/.kaggle/\n",
        "!chmod 600 ~/.kaggle/kaggle.json"
      ],
      "execution_count": 3,
      "outputs": []
    },
    {
      "cell_type": "code",
      "metadata": {
        "id": "wSo5kJO7lKIA",
        "colab_type": "code",
        "colab": {
          "base_uri": "https://localhost:8080/",
          "height": 34
        },
        "outputId": "d65acbfd-2a6b-4719-a49f-258678d579ba"
      },
      "source": [
        "!kaggle -v"
      ],
      "execution_count": 4,
      "outputs": [
        {
          "output_type": "stream",
          "text": [
            "Kaggle API 1.5.4\n"
          ],
          "name": "stdout"
        }
      ]
    },
    {
      "cell_type": "code",
      "metadata": {
        "id": "9qw9ubX6nsI_",
        "colab_type": "code",
        "colab": {
          "base_uri": "https://localhost:8080/",
          "height": 422
        },
        "outputId": "8ceb1b10-b571-4e7b-92f8-31d96f359695"
      },
      "source": [
        "!kaggle competitions list"
      ],
      "execution_count": 5,
      "outputs": [
        {
          "output_type": "stream",
          "text": [
            "Warning: Looks like you're using an outdated API Version, please consider updating (server 1.5.6 / client 1.5.4)\n",
            "ref                                            deadline             category            reward  teamCount  userHasEntered  \n",
            "---------------------------------------------  -------------------  ---------------  ---------  ---------  --------------  \n",
            "tpu-getting-started                            2030-06-03 23:59:00  Getting Started      Kudos        154           False  \n",
            "digit-recognizer                               2030-01-01 00:00:00  Getting Started  Knowledge       2950           False  \n",
            "titanic                                        2030-01-01 00:00:00  Getting Started  Knowledge      22904            True  \n",
            "house-prices-advanced-regression-techniques    2030-01-01 00:00:00  Getting Started  Knowledge       5039           False  \n",
            "connectx                                       2030-01-01 00:00:00  Getting Started  Knowledge        710           False  \n",
            "nlp-getting-started                            2030-01-01 00:00:00  Getting Started      Kudos       1486           False  \n",
            "competitive-data-science-predict-future-sales  2020-12-31 23:59:00  Playground           Kudos       7709           False  \n",
            "osic-pulmonary-fibrosis-progression            2020-10-06 23:59:00  Featured           $55,000        124           False  \n",
            "halite                                         2020-09-15 23:59:00  Featured              Swag        592           False  \n",
            "birdsong-recognition                           2020-09-15 23:59:00  Research           $25,000        325           False  \n",
            "landmark-retrieval-2020                        2020-08-17 23:59:00  Research           $25,000        118           False  \n",
            "siim-isic-melanoma-classification              2020-08-17 23:59:00  Featured           $30,000       1953           False  \n",
            "global-wheat-detection                         2020-08-04 23:59:00  Research           $15,000       1600           False  \n",
            "open-images-object-detection-rvc-2020          2020-07-31 16:00:00  Playground       Knowledge         55           False  \n",
            "open-images-instance-segmentation-rvc-2020     2020-07-31 16:00:00  Playground       Knowledge         10           False  \n",
            "hashcode-photo-slideshow                       2020-07-27 23:59:00  Playground       Knowledge         56           False  \n",
            "prostate-cancer-grade-assessment               2020-07-22 23:59:00  Featured           $25,000        856           False  \n",
            "alaska2-image-steganalysis                     2020-07-20 23:59:00  Research           $25,000        958           False  \n",
            "m5-forecasting-accuracy                        2020-06-30 23:59:00  Featured           $50,000       5558           False  \n",
            "m5-forecasting-uncertainty                     2020-06-30 23:59:00  Featured           $50,000        909           False  \n"
          ],
          "name": "stdout"
        }
      ]
    },
    {
      "cell_type": "code",
      "metadata": {
        "id": "QGHTZr38n9Ra",
        "colab_type": "code",
        "colab": {
          "base_uri": "https://localhost:8080/",
          "height": 70
        },
        "outputId": "64b8864c-0970-47d1-8c99-746ec52ab15d"
      },
      "source": [
        "!kaggle competitions download -c titanic "
      ],
      "execution_count": 8,
      "outputs": [
        {
          "output_type": "stream",
          "text": [
            "Downloading titanic.zip to /content\n",
            "\r  0% 0.00/34.1k [00:00<?, ?B/s]\n",
            "\r100% 34.1k/34.1k [00:00<00:00, 24.8MB/s]\n"
          ],
          "name": "stdout"
        }
      ]
    },
    {
      "cell_type": "markdown",
      "metadata": {
        "id": "A2_Oa55GsAge",
        "colab_type": "text"
      },
      "source": [
        "### Error 발생\n",
        "(Error)<br>Warning: Looks like you're using an outdated API Version, please consider updating (server 1.5.6 / client 1.5.4) 403 - Forbidden<br>\n",
        "-> 뒤의 403 Forbidden을 인지하고 못하고 버전 문제인줄 알고 접근<br>\n",
        "(Solution)<br>!pip install --upgrade --force-reinstall --no-deps kaggle<br>\n",
        "kaggle의 버전이 1.56으로 변경 후 다시 다운로드 시도\n",
        "<hr>\n",
        "\n",
        "(Error)<br>403 - Forbidden<br>\n",
        "-> 권한이 없음을 인지<br>\n",
        "(Solution)<br>홈페이지에 competition에 참가 후 다운로드 ->해결\n",
        "<br><br>\n",
        "(Reference Site) : https://www.kaggle.com/c/rsna-intracranial-hemorrhage-detection/discussion/109520"
      ]
    },
    {
      "cell_type": "code",
      "metadata": {
        "id": "qo5nZLBFojCS",
        "colab_type": "code",
        "colab": {
          "base_uri": "https://localhost:8080/",
          "height": 246
        },
        "outputId": "c820368d-99d7-4d9d-a7ab-3f521b567992"
      },
      "source": [
        "!pip install --upgrade --force-reinstall --no-deps kaggle"
      ],
      "execution_count": 7,
      "outputs": [
        {
          "output_type": "stream",
          "text": [
            "Collecting kaggle\n",
            "\u001b[?25l  Downloading https://files.pythonhosted.org/packages/62/ab/bb20f9b9e24f9a6250f95a432f8d9a7d745f8d24039d7a5a6eaadb7783ba/kaggle-1.5.6.tar.gz (58kB)\n",
            "\r\u001b[K     |█████▋                          | 10kB 14.8MB/s eta 0:00:01\r\u001b[K     |███████████▎                    | 20kB 1.5MB/s eta 0:00:01\r\u001b[K     |█████████████████               | 30kB 2.0MB/s eta 0:00:01\r\u001b[K     |██████████████████████▌         | 40kB 1.6MB/s eta 0:00:01\r\u001b[K     |████████████████████████████▏   | 51kB 1.8MB/s eta 0:00:01\r\u001b[K     |████████████████████████████████| 61kB 1.7MB/s \n",
            "\u001b[?25hBuilding wheels for collected packages: kaggle\n",
            "  Building wheel for kaggle (setup.py) ... \u001b[?25l\u001b[?25hdone\n",
            "  Created wheel for kaggle: filename=kaggle-1.5.6-cp36-none-any.whl size=72859 sha256=d3769eea2c9754d78f544e347385669f8dee60bb5b7f09d6a61d5d14b2085ef1\n",
            "  Stored in directory: /root/.cache/pip/wheels/57/4e/e8/bb28d035162fb8f17f8ca5d42c3230e284c6aa565b42b72674\n",
            "Successfully built kaggle\n",
            "Installing collected packages: kaggle\n",
            "  Found existing installation: kaggle 1.5.6\n",
            "    Uninstalling kaggle-1.5.6:\n",
            "      Successfully uninstalled kaggle-1.5.6\n",
            "Successfully installed kaggle-1.5.6\n"
          ],
          "name": "stdout"
        }
      ]
    },
    {
      "cell_type": "markdown",
      "metadata": {
        "id": "B-M0m4ovtoE2",
        "colab_type": "text"
      },
      "source": [
        "titanic data가 zip형식으로 압축되어 있어서 리눅스 명령어로 해제 시도<br>\n"
      ]
    },
    {
      "cell_type": "code",
      "metadata": {
        "id": "lf5RFUUvtV8X",
        "colab_type": "code",
        "colab": {
          "base_uri": "https://localhost:8080/",
          "height": 140
        },
        "outputId": "52ec5446-66bc-4ad7-ee5f-cc7113f50d51"
      },
      "source": [
        "!unzip titanic.zip"
      ],
      "execution_count": 9,
      "outputs": [
        {
          "output_type": "stream",
          "text": [
            "Archive:  titanic.zip\n",
            "replace gender_submission.csv? [y]es, [n]o, [A]ll, [N]one, [r]ename: y\n",
            "  inflating: gender_submission.csv   \n",
            "replace test.csv? [y]es, [n]o, [A]ll, [N]one, [r]ename: y\n",
            "  inflating: test.csv                \n",
            "replace train.csv? [y]es, [n]o, [A]ll, [N]one, [r]ename: y\n",
            "  inflating: train.csv               \n"
          ],
          "name": "stdout"
        }
      ]
    },
    {
      "cell_type": "markdown",
      "metadata": {
        "id": "SNTV3H32u51_",
        "colab_type": "text"
      },
      "source": [
        "## 데이터 로드\n",
        "Numpy, Pandas, Matpltlib 패키지 import<br>\n",
        "Pands의 read_csv 모듈을 통해 데이터 로드"
      ]
    },
    {
      "cell_type": "code",
      "metadata": {
        "id": "mQ8CHWvPuTAl",
        "colab_type": "code",
        "colab": {}
      },
      "source": [
        "import numpy as np\n",
        "import pandas as pd\n",
        "import matplotlib.pyplot as plt\n",
        "\n",
        "df_train = pd.read_csv('./train.csv')\n",
        "df_test = pd.read_csv('./test.csv')"
      ],
      "execution_count": 9,
      "outputs": []
    },
    {
      "cell_type": "markdown",
      "metadata": {
        "id": "HKO69gxJwgfu",
        "colab_type": "text"
      },
      "source": [
        "## Keras의 Data Description 에서 Data Dictionary를 캡쳐 후 저장\n",
        "## 해당 이미지 파일을 Google Drive에 저장 후 IPython.Display에 Image 모듈을 사용하여 이미지를 보여준다. \n",
        "\n",
        "\n"
      ]
    },
    {
      "cell_type": "code",
      "metadata": {
        "id": "CQdoM0VavvTq",
        "colab_type": "code",
        "colab": {
          "base_uri": "https://localhost:8080/",
          "height": 517
        },
        "outputId": "da95f58f-6b53-47cb-da98-b02e699fd629"
      },
      "source": [
        "from IPython.display import Image \n",
        "Image(filename='/content/g/My Drive/data_dictionary.png', width=700, height=500)"
      ],
      "execution_count": 10,
      "outputs": [
        {
          "output_type": "execute_result",
          "data": {
            "image/png": "[encoded data removed]",
            "text/plain": [
              "<IPython.core.display.Image object>"
            ]
          },
          "metadata": {
            "tags": [],
            "image/png": {
              "width": 700,
              "height": 500
            }
          },
          "execution_count": 10
        }
      ]
    },
    {
      "cell_type": "code",
      "metadata": {
        "id": "GawpCtNRvFau",
        "colab_type": "code",
        "colab": {
          "base_uri": "https://localhost:8080/",
          "height": 229
        },
        "outputId": "fba606ae-40eb-40d4-aba7-ccb48cdb8248"
      },
      "source": [
        "df_train.head()"
      ],
      "execution_count": 11,
      "outputs": [
        {
          "output_type": "execute_result",
          "data": {
            "text/html": [
              "<div>\n",
              "<style scoped>\n",
              "    .dataframe tbody tr th:only-of-type {\n",
              "        vertical-align: middle;\n",
              "    }\n",
              "\n",
              "    .dataframe tbody tr th {\n",
              "        vertical-align: top;\n",
              "    }\n",
              "\n",
              "    .dataframe thead th {\n",
              "        text-align: right;\n",
              "    }\n",
              "</style>\n",
              "<table border=\"1\" class=\"dataframe\">\n",
              "  <thead>\n",
              "    <tr style=\"text-align: right;\">\n",
              "      <th></th>\n",
              "      <th>PassengerId</th>\n",
              "      <th>Survived</th>\n",
              "      <th>Pclass</th>\n",
              "      <th>Name</th>\n",
              "      <th>Sex</th>\n",
              "      <th>Age</th>\n",
              "      <th>SibSp</th>\n",
              "      <th>Parch</th>\n",
              "      <th>Ticket</th>\n",
              "      <th>Fare</th>\n",
              "      <th>Cabin</th>\n",
              "      <th>Embarked</th>\n",
              "    </tr>\n",
              "  </thead>\n",
              "  <tbody>\n",
              "    <tr>\n",
              "      <th>0</th>\n",
              "      <td>1</td>\n",
              "      <td>0</td>\n",
              "      <td>3</td>\n",
              "      <td>Braund, Mr. Owen Harris</td>\n",
              "      <td>male</td>\n",
              "      <td>22.0</td>\n",
              "      <td>1</td>\n",
              "      <td>0</td>\n",
              "      <td>A/5 21171</td>\n",
              "      <td>7.2500</td>\n",
              "      <td>NaN</td>\n",
              "      <td>S</td>\n",
              "    </tr>\n",
              "    <tr>\n",
              "      <th>1</th>\n",
              "      <td>2</td>\n",
              "      <td>1</td>\n",
              "      <td>1</td>\n",
              "      <td>Cumings, Mrs. John Bradley (Florence Briggs Th...</td>\n",
              "      <td>female</td>\n",
              "      <td>38.0</td>\n",
              "      <td>1</td>\n",
              "      <td>0</td>\n",
              "      <td>PC 17599</td>\n",
              "      <td>71.2833</td>\n",
              "      <td>C85</td>\n",
              "      <td>C</td>\n",
              "    </tr>\n",
              "    <tr>\n",
              "      <th>2</th>\n",
              "      <td>3</td>\n",
              "      <td>1</td>\n",
              "      <td>3</td>\n",
              "      <td>Heikkinen, Miss. Laina</td>\n",
              "      <td>female</td>\n",
              "      <td>26.0</td>\n",
              "      <td>0</td>\n",
              "      <td>0</td>\n",
              "      <td>STON/O2. 3101282</td>\n",
              "      <td>7.9250</td>\n",
              "      <td>NaN</td>\n",
              "      <td>S</td>\n",
              "    </tr>\n",
              "    <tr>\n",
              "      <th>3</th>\n",
              "      <td>4</td>\n",
              "      <td>1</td>\n",
              "      <td>1</td>\n",
              "      <td>Futrelle, Mrs. Jacques Heath (Lily May Peel)</td>\n",
              "      <td>female</td>\n",
              "      <td>35.0</td>\n",
              "      <td>1</td>\n",
              "      <td>0</td>\n",
              "      <td>113803</td>\n",
              "      <td>53.1000</td>\n",
              "      <td>C123</td>\n",
              "      <td>S</td>\n",
              "    </tr>\n",
              "    <tr>\n",
              "      <th>4</th>\n",
              "      <td>5</td>\n",
              "      <td>0</td>\n",
              "      <td>3</td>\n",
              "      <td>Allen, Mr. William Henry</td>\n",
              "      <td>male</td>\n",
              "      <td>35.0</td>\n",
              "      <td>0</td>\n",
              "      <td>0</td>\n",
              "      <td>373450</td>\n",
              "      <td>8.0500</td>\n",
              "      <td>NaN</td>\n",
              "      <td>S</td>\n",
              "    </tr>\n",
              "  </tbody>\n",
              "</table>\n",
              "</div>"
            ],
            "text/plain": [
              "   PassengerId  Survived  Pclass  ...     Fare Cabin  Embarked\n",
              "0            1         0       3  ...   7.2500   NaN         S\n",
              "1            2         1       1  ...  71.2833   C85         C\n",
              "2            3         1       3  ...   7.9250   NaN         S\n",
              "3            4         1       1  ...  53.1000  C123         S\n",
              "4            5         0       3  ...   8.0500   NaN         S\n",
              "\n",
              "[5 rows x 12 columns]"
            ]
          },
          "metadata": {
            "tags": []
          },
          "execution_count": 11
        }
      ]
    },
    {
      "cell_type": "markdown",
      "metadata": {
        "id": "NxRMo11-xEEs",
        "colab_type": "text"
      },
      "source": [
        "\n",
        "\n",
        "1.   PassengerId는 고유번호로 사용 가능하다.\n",
        "2.   Survived는 생존자 예측에 제일 중요한 column으로 0이면 사망 1이면 생존\n",
        "3.   Pclass는 승객들의 승선 클래스를 나타낸다. 1이면 1st로 상대적으로 부유하다고 볼 수 있다.\n",
        "4.   Name은 PassengerId와 마찬가지로 고유특성이다.\n",
        "5.   Sex는 성별을 나타낸다.\n",
        "6.   age는 나이를 나타낸다.\n",
        "7.   SibSp 같이 탑승한 형제나 배우자의 수\n",
        "8.   Parch 같이 탑승한 부모의 수(부, 모 따로 계산)\n",
        "9.   Ticket은 승객들의 Ticket number이다.\n",
        "10.  Fare은 승객들의 요금을 나타낸다.  \n",
        "11.  Cabin는 탑승객의 Cabin number이다. 고유번호로 사용가능하다.\n",
        "12.  Embarked는 탑승한 위치이다.\n",
        "\n"
      ]
    },
    {
      "cell_type": "code",
      "metadata": {
        "id": "XQHtfB9nyNZT",
        "colab_type": "code",
        "colab": {
          "base_uri": "https://localhost:8080/",
          "height": 435
        },
        "outputId": "22bcb9b9-89ad-4113-c74f-f4b659743fb4"
      },
      "source": [
        "df_train"
      ],
      "execution_count": 12,
      "outputs": [
        {
          "output_type": "execute_result",
          "data": {
            "text/html": [
              "<div>\n",
              "<style scoped>\n",
              "    .dataframe tbody tr th:only-of-type {\n",
              "        vertical-align: middle;\n",
              "    }\n",
              "\n",
              "    .dataframe tbody tr th {\n",
              "        vertical-align: top;\n",
              "    }\n",
              "\n",
              "    .dataframe thead th {\n",
              "        text-align: right;\n",
              "    }\n",
              "</style>\n",
              "<table border=\"1\" class=\"dataframe\">\n",
              "  <thead>\n",
              "    <tr style=\"text-align: right;\">\n",
              "      <th></th>\n",
              "      <th>PassengerId</th>\n",
              "      <th>Survived</th>\n",
              "      <th>Pclass</th>\n",
              "      <th>Name</th>\n",
              "      <th>Sex</th>\n",
              "      <th>Age</th>\n",
              "      <th>SibSp</th>\n",
              "      <th>Parch</th>\n",
              "      <th>Ticket</th>\n",
              "      <th>Fare</th>\n",
              "      <th>Cabin</th>\n",
              "      <th>Embarked</th>\n",
              "    </tr>\n",
              "  </thead>\n",
              "  <tbody>\n",
              "    <tr>\n",
              "      <th>0</th>\n",
              "      <td>1</td>\n",
              "      <td>0</td>\n",
              "      <td>3</td>\n",
              "      <td>Braund, Mr. Owen Harris</td>\n",
              "      <td>male</td>\n",
              "      <td>22.0</td>\n",
              "      <td>1</td>\n",
              "      <td>0</td>\n",
              "      <td>A/5 21171</td>\n",
              "      <td>7.2500</td>\n",
              "      <td>NaN</td>\n",
              "      <td>S</td>\n",
              "    </tr>\n",
              "    <tr>\n",
              "      <th>1</th>\n",
              "      <td>2</td>\n",
              "      <td>1</td>\n",
              "      <td>1</td>\n",
              "      <td>Cumings, Mrs. John Bradley (Florence Briggs Th...</td>\n",
              "      <td>female</td>\n",
              "      <td>38.0</td>\n",
              "      <td>1</td>\n",
              "      <td>0</td>\n",
              "      <td>PC 17599</td>\n",
              "      <td>71.2833</td>\n",
              "      <td>C85</td>\n",
              "      <td>C</td>\n",
              "    </tr>\n",
              "    <tr>\n",
              "      <th>2</th>\n",
              "      <td>3</td>\n",
              "      <td>1</td>\n",
              "      <td>3</td>\n",
              "      <td>Heikkinen, Miss. Laina</td>\n",
              "      <td>female</td>\n",
              "      <td>26.0</td>\n",
              "      <td>0</td>\n",
              "      <td>0</td>\n",
              "      <td>STON/O2. 3101282</td>\n",
              "      <td>7.9250</td>\n",
              "      <td>NaN</td>\n",
              "      <td>S</td>\n",
              "    </tr>\n",
              "    <tr>\n",
              "      <th>3</th>\n",
              "      <td>4</td>\n",
              "      <td>1</td>\n",
              "      <td>1</td>\n",
              "      <td>Futrelle, Mrs. Jacques Heath (Lily May Peel)</td>\n",
              "      <td>female</td>\n",
              "      <td>35.0</td>\n",
              "      <td>1</td>\n",
              "      <td>0</td>\n",
              "      <td>113803</td>\n",
              "      <td>53.1000</td>\n",
              "      <td>C123</td>\n",
              "      <td>S</td>\n",
              "    </tr>\n",
              "    <tr>\n",
              "      <th>4</th>\n",
              "      <td>5</td>\n",
              "      <td>0</td>\n",
              "      <td>3</td>\n",
              "      <td>Allen, Mr. William Henry</td>\n",
              "      <td>male</td>\n",
              "      <td>35.0</td>\n",
              "      <td>0</td>\n",
              "      <td>0</td>\n",
              "      <td>373450</td>\n",
              "      <td>8.0500</td>\n",
              "      <td>NaN</td>\n",
              "      <td>S</td>\n",
              "    </tr>\n",
              "    <tr>\n",
              "      <th>...</th>\n",
              "      <td>...</td>\n",
              "      <td>...</td>\n",
              "      <td>...</td>\n",
              "      <td>...</td>\n",
              "      <td>...</td>\n",
              "      <td>...</td>\n",
              "      <td>...</td>\n",
              "      <td>...</td>\n",
              "      <td>...</td>\n",
              "      <td>...</td>\n",
              "      <td>...</td>\n",
              "      <td>...</td>\n",
              "    </tr>\n",
              "    <tr>\n",
              "      <th>886</th>\n",
              "      <td>887</td>\n",
              "      <td>0</td>\n",
              "      <td>2</td>\n",
              "      <td>Montvila, Rev. Juozas</td>\n",
              "      <td>male</td>\n",
              "      <td>27.0</td>\n",
              "      <td>0</td>\n",
              "      <td>0</td>\n",
              "      <td>211536</td>\n",
              "      <td>13.0000</td>\n",
              "      <td>NaN</td>\n",
              "      <td>S</td>\n",
              "    </tr>\n",
              "    <tr>\n",
              "      <th>887</th>\n",
              "      <td>888</td>\n",
              "      <td>1</td>\n",
              "      <td>1</td>\n",
              "      <td>Graham, Miss. Margaret Edith</td>\n",
              "      <td>female</td>\n",
              "      <td>19.0</td>\n",
              "      <td>0</td>\n",
              "      <td>0</td>\n",
              "      <td>112053</td>\n",
              "      <td>30.0000</td>\n",
              "      <td>B42</td>\n",
              "      <td>S</td>\n",
              "    </tr>\n",
              "    <tr>\n",
              "      <th>888</th>\n",
              "      <td>889</td>\n",
              "      <td>0</td>\n",
              "      <td>3</td>\n",
              "      <td>Johnston, Miss. Catherine Helen \"Carrie\"</td>\n",
              "      <td>female</td>\n",
              "      <td>NaN</td>\n",
              "      <td>1</td>\n",
              "      <td>2</td>\n",
              "      <td>W./C. 6607</td>\n",
              "      <td>23.4500</td>\n",
              "      <td>NaN</td>\n",
              "      <td>S</td>\n",
              "    </tr>\n",
              "    <tr>\n",
              "      <th>889</th>\n",
              "      <td>890</td>\n",
              "      <td>1</td>\n",
              "      <td>1</td>\n",
              "      <td>Behr, Mr. Karl Howell</td>\n",
              "      <td>male</td>\n",
              "      <td>26.0</td>\n",
              "      <td>0</td>\n",
              "      <td>0</td>\n",
              "      <td>111369</td>\n",
              "      <td>30.0000</td>\n",
              "      <td>C148</td>\n",
              "      <td>C</td>\n",
              "    </tr>\n",
              "    <tr>\n",
              "      <th>890</th>\n",
              "      <td>891</td>\n",
              "      <td>0</td>\n",
              "      <td>3</td>\n",
              "      <td>Dooley, Mr. Patrick</td>\n",
              "      <td>male</td>\n",
              "      <td>32.0</td>\n",
              "      <td>0</td>\n",
              "      <td>0</td>\n",
              "      <td>370376</td>\n",
              "      <td>7.7500</td>\n",
              "      <td>NaN</td>\n",
              "      <td>Q</td>\n",
              "    </tr>\n",
              "  </tbody>\n",
              "</table>\n",
              "<p>891 rows × 12 columns</p>\n",
              "</div>"
            ],
            "text/plain": [
              "     PassengerId  Survived  Pclass  ...     Fare Cabin  Embarked\n",
              "0              1         0       3  ...   7.2500   NaN         S\n",
              "1              2         1       1  ...  71.2833   C85         C\n",
              "2              3         1       3  ...   7.9250   NaN         S\n",
              "3              4         1       1  ...  53.1000  C123         S\n",
              "4              5         0       3  ...   8.0500   NaN         S\n",
              "..           ...       ...     ...  ...      ...   ...       ...\n",
              "886          887         0       2  ...  13.0000   NaN         S\n",
              "887          888         1       1  ...  30.0000   B42         S\n",
              "888          889         0       3  ...  23.4500   NaN         S\n",
              "889          890         1       1  ...  30.0000  C148         C\n",
              "890          891         0       3  ...   7.7500   NaN         Q\n",
              "\n",
              "[891 rows x 12 columns]"
            ]
          },
          "metadata": {
            "tags": []
          },
          "execution_count": 12
        }
      ]
    },
    {
      "cell_type": "code",
      "metadata": {
        "id": "okqpfhIH2R0s",
        "colab_type": "code",
        "colab": {
          "base_uri": "https://localhost:8080/",
          "height": 351
        },
        "outputId": "b9f91276-e084-4bbb-f6ea-6cf6322c6f3c"
      },
      "source": [
        "df_train.info()"
      ],
      "execution_count": 13,
      "outputs": [
        {
          "output_type": "stream",
          "text": [
            "<class 'pandas.core.frame.DataFrame'>\n",
            "RangeIndex: 891 entries, 0 to 890\n",
            "Data columns (total 12 columns):\n",
            " #   Column       Non-Null Count  Dtype  \n",
            "---  ------       --------------  -----  \n",
            " 0   PassengerId  891 non-null    int64  \n",
            " 1   Survived     891 non-null    int64  \n",
            " 2   Pclass       891 non-null    int64  \n",
            " 3   Name         891 non-null    object \n",
            " 4   Sex          891 non-null    object \n",
            " 5   Age          714 non-null    float64\n",
            " 6   SibSp        891 non-null    int64  \n",
            " 7   Parch        891 non-null    int64  \n",
            " 8   Ticket       891 non-null    object \n",
            " 9   Fare         891 non-null    float64\n",
            " 10  Cabin        204 non-null    object \n",
            " 11  Embarked     889 non-null    object \n",
            "dtypes: float64(2), int64(5), object(5)\n",
            "memory usage: 83.7+ KB\n"
          ],
          "name": "stdout"
        }
      ]
    },
    {
      "cell_type": "markdown",
      "metadata": {
        "id": "pVMUZG0kpyl3",
        "colab_type": "text"
      },
      "source": [
        "# 결측값(NULL)을 조회"
      ]
    },
    {
      "cell_type": "code",
      "metadata": {
        "id": "9YJEVIbB2o1K",
        "colab_type": "code",
        "colab": {
          "base_uri": "https://localhost:8080/",
          "height": 594
        },
        "outputId": "64fb9f3d-598b-4a0d-83ba-9410878a3f0f"
      },
      "source": [
        "import seaborn as sns\n",
        "\n",
        "plt.style.use('seaborn')\n",
        "sns.set(font_scale=2.5)\n",
        "\n",
        "sns.heatmap(df_train.isnull(), cbar=False)"
      ],
      "execution_count": 14,
      "outputs": [
        {
          "output_type": "stream",
          "text": [
            "/usr/local/lib/python3.6/dist-packages/statsmodels/tools/_testing.py:19: FutureWarning: pandas.util.testing is deprecated. Use the functions in the public API at pandas.testing instead.\n",
            "  import pandas.util.testing as tm\n"
          ],
          "name": "stderr"
        },
        {
          "output_type": "execute_result",
          "data": {
            "text/plain": [
              "<matplotlib.axes._subplots.AxesSubplot at 0x7fe01248cc50>"
            ]
          },
          "metadata": {
            "tags": []
          },
          "execution_count": 14
        },
        {
          "output_type": "display_data",
          "data": {
            "image/png": "[encoded data removed]",
            "text/plain": [
              "<Figure size 576x396 with 1 Axes>"
            ]
          },
          "metadata": {
            "tags": []
          }
        }
      ]
    },
    {
      "cell_type": "markdown",
      "metadata": {
        "id": "kk5ws_4op5bp",
        "colab_type": "text"
      },
      "source": [
        "## Seaborn은 Matplotlib을 기반으로 다양한 색상 테마와 통계용 차트 등의 기능을 추가한 시각화 패키지이다. 기본적인 시각화 기능은 Matplotlib 패키지에 의존한다. \n",
        "<hr>\n",
        "\n",
        "## plt.style.use('seaborn')을 통하여 Seaborn을 적용하여 데이터를 시각화한다.\n",
        "## 흰색 부분이 결측값을 나타낸다.\n",
        "<hr>\n",
        "\n",
        "## heatmap의 parameter<br>cbar : boolean, optional<br>Whether to draw a colorbar\n",
        "\n",
        "\n",
        "(reference site) : https://datascienceschool.net/view-notebook/4c2d5ff1caab4b21a708cc662137bc65/ (Seaborn의 정의)\n",
        ": https://seaborn.pydata.org/generated/seaborn.heatmap.html (sns.heatmap의 parameter)"
      ]
    },
    {
      "cell_type": "markdown",
      "metadata": {
        "id": "it6KHXEu3J-w",
        "colab_type": "text"
      },
      "source": [
        "# Cabin의 non-null "
      ]
    },
    {
      "cell_type": "code",
      "metadata": {
        "id": "jYs5HX-H4MMG",
        "colab_type": "code",
        "colab": {
          "base_uri": "https://localhost:8080/",
          "height": 228
        },
        "outputId": "692d10ed-8130-4a9a-eaac-a67ea8996bac"
      },
      "source": [
        "df_train['Cabin']"
      ],
      "execution_count": 15,
      "outputs": [
        {
          "output_type": "execute_result",
          "data": {
            "text/plain": [
              "0       NaN\n",
              "1       C85\n",
              "2       NaN\n",
              "3      C123\n",
              "4       NaN\n",
              "       ... \n",
              "886     NaN\n",
              "887     B42\n",
              "888     NaN\n",
              "889    C148\n",
              "890     NaN\n",
              "Name: Cabin, Length: 891, dtype: object"
            ]
          },
          "metadata": {
            "tags": []
          },
          "execution_count": 15
        }
      ]
    },
    {
      "cell_type": "markdown",
      "metadata": {
        "id": "uv08bDFcRffe",
        "colab_type": "text"
      },
      "source": [
        "### cabin column은 탑승객의 구별하는 용도로 사용가능하다. 하지만 결측치(Null)이 많아 사용하기 어렵다..\n",
        "### 또한 결측값도 많이 있어, 모델을 학습하는데 부정적인 영향을 미치므로, 해당 column을 삭제한다."
      ]
    },
    {
      "cell_type": "markdown",
      "metadata": {
        "id": "mnNYNltktKnv",
        "colab_type": "text"
      },
      "source": [
        "## 'Cabin' 삭제"
      ]
    },
    {
      "cell_type": "code",
      "metadata": {
        "id": "uEdvnSVCr62h",
        "colab_type": "code",
        "colab": {}
      },
      "source": [
        "df_test.drop(['Cabin'], axis='columns', inplace=True)"
      ],
      "execution_count": 16,
      "outputs": []
    },
    {
      "cell_type": "code",
      "metadata": {
        "id": "rUtaC7SJZwZz",
        "colab_type": "code",
        "colab": {}
      },
      "source": [
        "df_train.drop(['Cabin'], axis='columns', inplace=True)"
      ],
      "execution_count": 17,
      "outputs": []
    },
    {
      "cell_type": "markdown",
      "metadata": {
        "id": "WMFLuV8_tPFo",
        "colab_type": "text"
      },
      "source": [
        "## 삭제되었는지 확인\n"
      ]
    },
    {
      "cell_type": "code",
      "metadata": {
        "id": "ye1ZnvHLtDDP",
        "colab_type": "code",
        "colab": {
          "base_uri": "https://localhost:8080/",
          "height": 334
        },
        "outputId": "c47d896b-b347-4bc1-bcc6-811996db99d8"
      },
      "source": [
        "df_train.info()"
      ],
      "execution_count": 18,
      "outputs": [
        {
          "output_type": "stream",
          "text": [
            "<class 'pandas.core.frame.DataFrame'>\n",
            "RangeIndex: 891 entries, 0 to 890\n",
            "Data columns (total 11 columns):\n",
            " #   Column       Non-Null Count  Dtype  \n",
            "---  ------       --------------  -----  \n",
            " 0   PassengerId  891 non-null    int64  \n",
            " 1   Survived     891 non-null    int64  \n",
            " 2   Pclass       891 non-null    int64  \n",
            " 3   Name         891 non-null    object \n",
            " 4   Sex          891 non-null    object \n",
            " 5   Age          714 non-null    float64\n",
            " 6   SibSp        891 non-null    int64  \n",
            " 7   Parch        891 non-null    int64  \n",
            " 8   Ticket       891 non-null    object \n",
            " 9   Fare         891 non-null    float64\n",
            " 10  Embarked     889 non-null    object \n",
            "dtypes: float64(2), int64(5), object(4)\n",
            "memory usage: 76.7+ KB\n"
          ],
          "name": "stdout"
        }
      ]
    },
    {
      "cell_type": "markdown",
      "metadata": {
        "id": "m6BMTs9u3I0g",
        "colab_type": "text"
      },
      "source": [
        "### Categorial Feature의 분포를 보기 위해 Pie Chart를 그린다.\n",
        "\n",
        "(reference site) : https://cyc1am3n.github.io/2018/10/09/my-first-kaggle-competition_titanic.html"
      ]
    },
    {
      "cell_type": "code",
      "metadata": {
        "id": "zjbObb0S0OhU",
        "colab_type": "code",
        "colab": {}
      },
      "source": [
        "import matplotlib.pyplot as plt\n",
        "%matplotlib inline\n",
        "import seaborn as sns\n",
        "\n",
        "def pie_chart(feature):\n",
        "  feature_ratio = df_train[feature].value_counts(sort=False)\n",
        "  feature_size = feature_ratio.size\n",
        "  feature_index = feature_ratio.index\n",
        "  survived = df_train[df_train['Survived'] == 1][feature].value_counts()\n",
        "  dead = df_train[df_train['Survived'] == 0][feature].value_counts()\n",
        "  \n",
        "  plt.plot(aspect='auto')\n",
        "  plt.pie(feature_ratio, labels=feature_index, autopct='%1.1f%%')\n",
        "  plt.title(feature + '\\'s ratio in total')\n",
        "  plt.show()\n",
        "\n",
        "  for i, index in enumerate(feature_index):\n",
        "    plt.subplot(1, feature_size + 1, i + 1, aspect='equal')\n",
        "    plt.pie([survived[index], dead[index]], labels=['Survivied', 'Dead'], autopct='%1.1f%%')\n",
        "    plt.title(str(index) + '\\'s ratio')\n",
        "    plt.show() "
      ],
      "execution_count": 19,
      "outputs": []
    },
    {
      "cell_type": "markdown",
      "metadata": {
        "id": "TEXjPNRD3YgS",
        "colab_type": "text"
      },
      "source": [
        "### df_train[feature].value_counts(sort=False)\n",
        "### -> Count number of rows with each unique value of variable\n",
        "### -> 변수에대한 유일값의 행의 갯수를 센다.\n"
      ]
    },
    {
      "cell_type": "code",
      "metadata": {
        "id": "d1cSoI2z5VF8",
        "colab_type": "code",
        "colab": {
          "base_uri": "https://localhost:8080/",
          "height": 559
        },
        "outputId": "bda42ab6-3f0a-4d6b-991a-0dc68f9159d0"
      },
      "source": [
        "pie_chart('Sex')"
      ],
      "execution_count": 20,
      "outputs": [
        {
          "output_type": "display_data",
          "data": {
            "image/png": "[encoded data removed]",
            "text/plain": [
              "<Figure size 432x288 with 1 Axes>"
            ]
          },
          "metadata": {
            "tags": []
          }
        },
        {
          "output_type": "display_data",
          "data": {
            "image/png": "[encoded data removed]",
            "text/plain": [
              "<Figure size 432x288 with 1 Axes>"
            ]
          },
          "metadata": {
            "tags": []
          }
        },
        {
          "output_type": "display_data",
          "data": {
            "image/png": "[encoded data removed]",
            "text/plain": [
              "<Figure size 432x288 with 1 Axes>"
            ]
          },
          "metadata": {
            "tags": []
          }
        }
      ]
    },
    {
      "cell_type": "markdown",
      "metadata": {
        "id": "PsPqYrOrWKOc",
        "colab_type": "text"
      },
      "source": [
        "### 데이터 전처리하는 과정에서 train과 test셋을 같은 방법으로 처리해야 하기 때문에 두 데이터를 합친 train_test 생성\n"
      ]
    },
    {
      "cell_type": "code",
      "metadata": {
        "id": "LWbupL4eWGPX",
        "colab_type": "code",
        "colab": {}
      },
      "source": [
        "train_test = [df_train, df_test]"
      ],
      "execution_count": 21,
      "outputs": []
    },
    {
      "cell_type": "markdown",
      "metadata": {
        "id": "5W8at_lDzNp4",
        "colab_type": "text"
      },
      "source": [
        "# Age\n",
        "### Age는 Cabin 만큼 많은 결측값을 갖고 있지 않지만, 결측치가 존재하는 Variable이다.\n",
        "### 생존과 나이는 상관관계를 가질 수 있다고 생각하였다.\n",
        "### 결측값에는 평균값을 넣는다.(가장 보편적인 방법)"
      ]
    },
    {
      "cell_type": "code",
      "metadata": {
        "id": "oi_lGF9Ltcc4",
        "colab_type": "code",
        "colab": {}
      },
      "source": [
        "for data in train_test:\n",
        "  data['Age'].fillna(data['Age'].mean(), inplace=True)\n",
        "  data['Age']=data['Age'].astype(int)"
      ],
      "execution_count": 22,
      "outputs": []
    },
    {
      "cell_type": "code",
      "metadata": {
        "id": "KCamFbK0Xzk4",
        "colab_type": "code",
        "colab": {
          "base_uri": "https://localhost:8080/",
          "height": 228
        },
        "outputId": "06e7d154-10f7-43ec-cc3d-b467b93acd26"
      },
      "source": [
        "df_train['Age'].isnull"
      ],
      "execution_count": 23,
      "outputs": [
        {
          "output_type": "execute_result",
          "data": {
            "text/plain": [
              "<bound method Series.isnull of 0      22\n",
              "1      38\n",
              "2      26\n",
              "3      35\n",
              "4      35\n",
              "       ..\n",
              "886    27\n",
              "887    19\n",
              "888    29\n",
              "889    26\n",
              "890    32\n",
              "Name: Age, Length: 891, dtype: int64>"
            ]
          },
          "metadata": {
            "tags": []
          },
          "execution_count": 23
        }
      ]
    },
    {
      "cell_type": "markdown",
      "metadata": {
        "id": "Rzz5qnEMYKbY",
        "colab_type": "text"
      },
      "source": [
        "### Age column에 결측값이 사라진것을 볼 수 있다."
      ]
    },
    {
      "cell_type": "markdown",
      "metadata": {
        "id": "Fwy1rcl9YuEu",
        "colab_type": "text"
      },
      "source": [
        "## 특성결합\n",
        "### Sibsp와 Parch 특성을 Family 특성으로 결합하자\n",
        "### 형제, 자매, 배우자 부모님, 자녀의 수는 비슷 한 성격을 가지므로 특성결합을 실행"
      ]
    },
    {
      "cell_type": "code",
      "metadata": {
        "id": "B-1bWEuGYtOX",
        "colab_type": "code",
        "colab": {}
      },
      "source": [
        "for data in train_test:\n",
        "  data[\"Family\"] = data[\"SibSp\"] + data[\"Parch\"]\n",
        "  data['Family'] = data['Family'].astype(int)"
      ],
      "execution_count": 24,
      "outputs": []
    },
    {
      "cell_type": "code",
      "metadata": {
        "id": "f1iL_Xe0ZUbU",
        "colab_type": "code",
        "colab": {
          "base_uri": "https://localhost:8080/",
          "height": 228
        },
        "outputId": "d644e437-4da1-4ad9-8912-21f144cebb24"
      },
      "source": [
        "df_train['Family']"
      ],
      "execution_count": 25,
      "outputs": [
        {
          "output_type": "execute_result",
          "data": {
            "text/plain": [
              "0      1\n",
              "1      1\n",
              "2      0\n",
              "3      1\n",
              "4      0\n",
              "      ..\n",
              "886    0\n",
              "887    0\n",
              "888    3\n",
              "889    0\n",
              "890    0\n",
              "Name: Family, Length: 891, dtype: int64"
            ]
          },
          "metadata": {
            "tags": []
          },
          "execution_count": 25
        }
      ]
    },
    {
      "cell_type": "code",
      "metadata": {
        "id": "Pkk502uWZlUh",
        "colab_type": "code",
        "colab": {
          "base_uri": "https://localhost:8080/",
          "height": 334
        },
        "outputId": "48d62a92-025d-46e3-aac1-86df7fc67471"
      },
      "source": [
        "df_test.info()"
      ],
      "execution_count": 26,
      "outputs": [
        {
          "output_type": "stream",
          "text": [
            "<class 'pandas.core.frame.DataFrame'>\n",
            "RangeIndex: 418 entries, 0 to 417\n",
            "Data columns (total 11 columns):\n",
            " #   Column       Non-Null Count  Dtype  \n",
            "---  ------       --------------  -----  \n",
            " 0   PassengerId  418 non-null    int64  \n",
            " 1   Pclass       418 non-null    int64  \n",
            " 2   Name         418 non-null    object \n",
            " 3   Sex          418 non-null    object \n",
            " 4   Age          418 non-null    int64  \n",
            " 5   SibSp        418 non-null    int64  \n",
            " 6   Parch        418 non-null    int64  \n",
            " 7   Ticket       418 non-null    object \n",
            " 8   Fare         417 non-null    float64\n",
            " 9   Embarked     418 non-null    object \n",
            " 10  Family       418 non-null    int64  \n",
            "dtypes: float64(1), int64(6), object(4)\n",
            "memory usage: 36.0+ KB\n"
          ],
          "name": "stdout"
        }
      ]
    },
    {
      "cell_type": "markdown",
      "metadata": {
        "id": "XVMnNrZWZcP_",
        "colab_type": "text"
      },
      "source": [
        "### SibSp와 Parch 특성 drop"
      ]
    },
    {
      "cell_type": "code",
      "metadata": {
        "id": "VyRfWCTTZbTM",
        "colab_type": "code",
        "colab": {}
      },
      "source": [
        "df_train.drop(['SibSp', 'Parch'], axis='columns', inplace=True)\n",
        "df_test.drop(['SibSp', 'Parch'], axis='columns', inplace=True)"
      ],
      "execution_count": 27,
      "outputs": []
    },
    {
      "cell_type": "markdown",
      "metadata": {
        "id": "JBDAJ_GpaZ2_",
        "colab_type": "text"
      },
      "source": [
        "### 승객들의 고유 번호인 Passenger id가 있으니 Name과 Ticket은 필요가 없다. "
      ]
    },
    {
      "cell_type": "code",
      "metadata": {
        "id": "dc1vsx1pai5H",
        "colab_type": "code",
        "colab": {}
      },
      "source": [
        "df_train.drop(['Name', 'Ticket'], axis='columns', inplace=True)\n",
        "df_test.drop(['Name', 'Ticket'], axis='columns', inplace=True)"
      ],
      "execution_count": 28,
      "outputs": []
    },
    {
      "cell_type": "markdown",
      "metadata": {
        "id": "aVlfVQX1a-Zn",
        "colab_type": "text"
      },
      "source": [
        "## Embarked\n",
        "### 해당 특성은 승객이 탑승한 항구이다.\n",
        "### null 값이 두개 존재한다."
      ]
    },
    {
      "cell_type": "code",
      "metadata": {
        "id": "2BCcr_GocHKT",
        "colab_type": "code",
        "colab": {
          "base_uri": "https://localhost:8080/",
          "height": 34
        },
        "outputId": "f8ddcbdd-cedd-4bae-bbb5-7c6a21bfb44a"
      },
      "source": [
        "df_train['Embarked'].isnull().sum()"
      ],
      "execution_count": 29,
      "outputs": [
        {
          "output_type": "execute_result",
          "data": {
            "text/plain": [
              "2"
            ]
          },
          "metadata": {
            "tags": []
          },
          "execution_count": 29
        }
      ]
    },
    {
      "cell_type": "markdown",
      "metadata": {
        "id": "Cf0PcXbQc2Sq",
        "colab_type": "text"
      },
      "source": [
        "### Embarked의 value를 살펴보자"
      ]
    },
    {
      "cell_type": "code",
      "metadata": {
        "id": "p-64eAp1cc1l",
        "colab_type": "code",
        "colab": {
          "base_uri": "https://localhost:8080/",
          "height": 87
        },
        "outputId": "ad9bf8ae-0cfd-4328-a6cd-2e55335735ae"
      },
      "source": [
        "df_train['Embarked'].value_counts()"
      ],
      "execution_count": 30,
      "outputs": [
        {
          "output_type": "execute_result",
          "data": {
            "text/plain": [
              "S    644\n",
              "C    168\n",
              "Q     77\n",
              "Name: Embarked, dtype: int64"
            ]
          },
          "metadata": {
            "tags": []
          },
          "execution_count": 30
        }
      ]
    },
    {
      "cell_type": "markdown",
      "metadata": {
        "id": "xy0Dt14gc6v2",
        "colab_type": "text"
      },
      "source": [
        "### S가 가장 많으므로 2개의 결측값을 S로 채워도 무방하다고 판단했다."
      ]
    },
    {
      "cell_type": "code",
      "metadata": {
        "id": "t2s_2mA-dAlt",
        "colab_type": "code",
        "colab": {
          "base_uri": "https://localhost:8080/",
          "height": 228
        },
        "outputId": "8eaf7ffd-ea29-4415-f0b2-c03bd4f16ed6"
      },
      "source": [
        "df_train['Embarked'].fillna('S')"
      ],
      "execution_count": 31,
      "outputs": [
        {
          "output_type": "execute_result",
          "data": {
            "text/plain": [
              "0      S\n",
              "1      C\n",
              "2      S\n",
              "3      S\n",
              "4      S\n",
              "      ..\n",
              "886    S\n",
              "887    S\n",
              "888    S\n",
              "889    C\n",
              "890    Q\n",
              "Name: Embarked, Length: 891, dtype: object"
            ]
          },
          "metadata": {
            "tags": []
          },
          "execution_count": 31
        }
      ]
    },
    {
      "cell_type": "markdown",
      "metadata": {
        "id": "TVsrtBp5ic5f",
        "colab_type": "text"
      },
      "source": [
        "### Fare 특성\n",
        "### test set에서 fare이 결측값존재\n",
        "### mean 값으로 채우고 int형으로 변환"
      ]
    },
    {
      "cell_type": "code",
      "metadata": {
        "id": "0Z3ffwLqudrP",
        "colab_type": "code",
        "colab": {
          "base_uri": "https://localhost:8080/",
          "height": 228
        },
        "outputId": "1cdbe5ea-5e80-4eb4-b5c5-ac5fb89f6e81"
      },
      "source": [
        "df_test['Fare'].isnull()"
      ],
      "execution_count": 32,
      "outputs": [
        {
          "output_type": "execute_result",
          "data": {
            "text/plain": [
              "0      False\n",
              "1      False\n",
              "2      False\n",
              "3      False\n",
              "4      False\n",
              "       ...  \n",
              "413    False\n",
              "414    False\n",
              "415    False\n",
              "416    False\n",
              "417    False\n",
              "Name: Fare, Length: 418, dtype: bool"
            ]
          },
          "metadata": {
            "tags": []
          },
          "execution_count": 32
        }
      ]
    },
    {
      "cell_type": "code",
      "metadata": {
        "id": "kSSzzVfticVH",
        "colab_type": "code",
        "colab": {}
      },
      "source": [
        "df_test['Fare']=df_test['Fare'].fillna(df_test['Fare'].mean()).astype(int)"
      ],
      "execution_count": 33,
      "outputs": []
    },
    {
      "cell_type": "code",
      "metadata": {
        "id": "I_kxSIUTjLls",
        "colab_type": "code",
        "colab": {}
      },
      "source": [
        "df_train['Fare']=df_train['Fare'].astype(int)"
      ],
      "execution_count": 34,
      "outputs": []
    },
    {
      "cell_type": "markdown",
      "metadata": {
        "id": "zKKRtXQGfYht",
        "colab_type": "text"
      },
      "source": [
        "## one-hot encoding 과 label분리\n",
        "### 데이터 전처리가 끝났으므로 예측 학습을 위하여 encoding과 label을 분리 시킨다."
      ]
    },
    {
      "cell_type": "code",
      "metadata": {
        "id": "QU9OYdfmfXhR",
        "colab_type": "code",
        "colab": {}
      },
      "source": [
        "df_train = pd.get_dummies(df_train)\n",
        "df_test = pd.get_dummies(df_test)\n",
        "\n",
        "df_train_label = df_train['Survived']\n",
        "df_train = df_train.drop('Survived', axis=1)"
      ],
      "execution_count": 35,
      "outputs": []
    },
    {
      "cell_type": "markdown",
      "metadata": {
        "id": "4j0Atc_cgAyl",
        "colab_type": "text"
      },
      "source": [
        ""
      ]
    },
    {
      "cell_type": "code",
      "metadata": {
        "id": "tRNAVAwXg62-",
        "colab_type": "code",
        "colab": {}
      },
      "source": [
        "from sklearn.ensemble import RandomForestClassifier\n",
        "from sklearn.linear_model import LogisticRegression\n",
        "from sklearn.svm import SVC\n",
        "from sklearn.neighbors import KNeighborsClassifier\n",
        "from sklearn.naive_bayes import GaussianNB\n",
        "from sklearn.utils import shuffle"
      ],
      "execution_count": 44,
      "outputs": []
    },
    {
      "cell_type": "code",
      "metadata": {
        "id": "HE_xiBf6u-SS",
        "colab_type": "code",
        "colab": {
          "base_uri": "https://localhost:8080/",
          "height": 215
        },
        "outputId": "796612a3-1d0d-4eb8-8c76-3c9101f78230"
      },
      "source": [
        "df_train.head()"
      ],
      "execution_count": 37,
      "outputs": [
        {
          "output_type": "execute_result",
          "data": {
            "text/html": [
              "<div>\n",
              "<style scoped>\n",
              "    .dataframe tbody tr th:only-of-type {\n",
              "        vertical-align: middle;\n",
              "    }\n",
              "\n",
              "    .dataframe tbody tr th {\n",
              "        vertical-align: top;\n",
              "    }\n",
              "\n",
              "    .dataframe thead th {\n",
              "        text-align: right;\n",
              "    }\n",
              "</style>\n",
              "<table border=\"1\" class=\"dataframe\">\n",
              "  <thead>\n",
              "    <tr style=\"text-align: right;\">\n",
              "      <th></th>\n",
              "      <th>PassengerId</th>\n",
              "      <th>Pclass</th>\n",
              "      <th>Age</th>\n",
              "      <th>Fare</th>\n",
              "      <th>Family</th>\n",
              "      <th>Sex_female</th>\n",
              "      <th>Sex_male</th>\n",
              "      <th>Embarked_C</th>\n",
              "      <th>Embarked_Q</th>\n",
              "      <th>Embarked_S</th>\n",
              "    </tr>\n",
              "  </thead>\n",
              "  <tbody>\n",
              "    <tr>\n",
              "      <th>0</th>\n",
              "      <td>1</td>\n",
              "      <td>3</td>\n",
              "      <td>22</td>\n",
              "      <td>7</td>\n",
              "      <td>1</td>\n",
              "      <td>0</td>\n",
              "      <td>1</td>\n",
              "      <td>0</td>\n",
              "      <td>0</td>\n",
              "      <td>1</td>\n",
              "    </tr>\n",
              "    <tr>\n",
              "      <th>1</th>\n",
              "      <td>2</td>\n",
              "      <td>1</td>\n",
              "      <td>38</td>\n",
              "      <td>71</td>\n",
              "      <td>1</td>\n",
              "      <td>1</td>\n",
              "      <td>0</td>\n",
              "      <td>1</td>\n",
              "      <td>0</td>\n",
              "      <td>0</td>\n",
              "    </tr>\n",
              "    <tr>\n",
              "      <th>2</th>\n",
              "      <td>3</td>\n",
              "      <td>3</td>\n",
              "      <td>26</td>\n",
              "      <td>7</td>\n",
              "      <td>0</td>\n",
              "      <td>1</td>\n",
              "      <td>0</td>\n",
              "      <td>0</td>\n",
              "      <td>0</td>\n",
              "      <td>1</td>\n",
              "    </tr>\n",
              "    <tr>\n",
              "      <th>3</th>\n",
              "      <td>4</td>\n",
              "      <td>1</td>\n",
              "      <td>35</td>\n",
              "      <td>53</td>\n",
              "      <td>1</td>\n",
              "      <td>1</td>\n",
              "      <td>0</td>\n",
              "      <td>0</td>\n",
              "      <td>0</td>\n",
              "      <td>1</td>\n",
              "    </tr>\n",
              "    <tr>\n",
              "      <th>4</th>\n",
              "      <td>5</td>\n",
              "      <td>3</td>\n",
              "      <td>35</td>\n",
              "      <td>8</td>\n",
              "      <td>0</td>\n",
              "      <td>0</td>\n",
              "      <td>1</td>\n",
              "      <td>0</td>\n",
              "      <td>0</td>\n",
              "      <td>1</td>\n",
              "    </tr>\n",
              "  </tbody>\n",
              "</table>\n",
              "</div>"
            ],
            "text/plain": [
              "   PassengerId  Pclass  Age  Fare  ...  Sex_male  Embarked_C  Embarked_Q  Embarked_S\n",
              "0            1       3   22     7  ...         1           0           0           1\n",
              "1            2       1   38    71  ...         0           1           0           0\n",
              "2            3       3   26     7  ...         0           0           0           1\n",
              "3            4       1   35    53  ...         0           0           0           1\n",
              "4            5       3   35     8  ...         1           0           0           1\n",
              "\n",
              "[5 rows x 10 columns]"
            ]
          },
          "metadata": {
            "tags": []
          },
          "execution_count": 37
        }
      ]
    },
    {
      "cell_type": "code",
      "metadata": {
        "id": "G3v2Fd6TvNwn",
        "colab_type": "code",
        "colab": {
          "base_uri": "https://localhost:8080/",
          "height": 195
        },
        "outputId": "3fa8dae4-a3eb-4118-b60b-60e7f55bf44c"
      },
      "source": [
        "df_test.head()"
      ],
      "execution_count": 38,
      "outputs": [
        {
          "output_type": "execute_result",
          "data": {
            "text/html": [
              "<div>\n",
              "<style scoped>\n",
              "    .dataframe tbody tr th:only-of-type {\n",
              "        vertical-align: middle;\n",
              "    }\n",
              "\n",
              "    .dataframe tbody tr th {\n",
              "        vertical-align: top;\n",
              "    }\n",
              "\n",
              "    .dataframe thead th {\n",
              "        text-align: right;\n",
              "    }\n",
              "</style>\n",
              "<table border=\"1\" class=\"dataframe\">\n",
              "  <thead>\n",
              "    <tr style=\"text-align: right;\">\n",
              "      <th></th>\n",
              "      <th>PassengerId</th>\n",
              "      <th>Pclass</th>\n",
              "      <th>Age</th>\n",
              "      <th>Fare</th>\n",
              "      <th>Family</th>\n",
              "      <th>Sex_female</th>\n",
              "      <th>Sex_male</th>\n",
              "      <th>Embarked_C</th>\n",
              "      <th>Embarked_Q</th>\n",
              "      <th>Embarked_S</th>\n",
              "    </tr>\n",
              "  </thead>\n",
              "  <tbody>\n",
              "    <tr>\n",
              "      <th>0</th>\n",
              "      <td>892</td>\n",
              "      <td>3</td>\n",
              "      <td>34</td>\n",
              "      <td>7</td>\n",
              "      <td>0</td>\n",
              "      <td>0</td>\n",
              "      <td>1</td>\n",
              "      <td>0</td>\n",
              "      <td>1</td>\n",
              "      <td>0</td>\n",
              "    </tr>\n",
              "    <tr>\n",
              "      <th>1</th>\n",
              "      <td>893</td>\n",
              "      <td>3</td>\n",
              "      <td>47</td>\n",
              "      <td>7</td>\n",
              "      <td>1</td>\n",
              "      <td>1</td>\n",
              "      <td>0</td>\n",
              "      <td>0</td>\n",
              "      <td>0</td>\n",
              "      <td>1</td>\n",
              "    </tr>\n",
              "    <tr>\n",
              "      <th>2</th>\n",
              "      <td>894</td>\n",
              "      <td>2</td>\n",
              "      <td>62</td>\n",
              "      <td>9</td>\n",
              "      <td>0</td>\n",
              "      <td>0</td>\n",
              "      <td>1</td>\n",
              "      <td>0</td>\n",
              "      <td>1</td>\n",
              "      <td>0</td>\n",
              "    </tr>\n",
              "    <tr>\n",
              "      <th>3</th>\n",
              "      <td>895</td>\n",
              "      <td>3</td>\n",
              "      <td>27</td>\n",
              "      <td>8</td>\n",
              "      <td>0</td>\n",
              "      <td>0</td>\n",
              "      <td>1</td>\n",
              "      <td>0</td>\n",
              "      <td>0</td>\n",
              "      <td>1</td>\n",
              "    </tr>\n",
              "    <tr>\n",
              "      <th>4</th>\n",
              "      <td>896</td>\n",
              "      <td>3</td>\n",
              "      <td>22</td>\n",
              "      <td>12</td>\n",
              "      <td>2</td>\n",
              "      <td>1</td>\n",
              "      <td>0</td>\n",
              "      <td>0</td>\n",
              "      <td>0</td>\n",
              "      <td>1</td>\n",
              "    </tr>\n",
              "  </tbody>\n",
              "</table>\n",
              "</div>"
            ],
            "text/plain": [
              "   PassengerId  Pclass  Age  Fare  ...  Sex_male  Embarked_C  Embarked_Q  Embarked_S\n",
              "0          892       3   34     7  ...         1           0           1           0\n",
              "1          893       3   47     7  ...         0           0           0           1\n",
              "2          894       2   62     9  ...         1           0           1           0\n",
              "3          895       3   27     8  ...         1           0           0           1\n",
              "4          896       3   22    12  ...         0           0           0           1\n",
              "\n",
              "[5 rows x 10 columns]"
            ]
          },
          "metadata": {
            "tags": []
          },
          "execution_count": 38
        }
      ]
    },
    {
      "cell_type": "markdown",
      "metadata": {
        "id": "KcCPfqiQhRAY",
        "colab_type": "text"
      },
      "source": [
        "### 데이터 정렬되어 있어 학습에 방해될 우려가 있으므로 섞어준다."
      ]
    },
    {
      "cell_type": "code",
      "metadata": {
        "id": "12kfZII6hRSZ",
        "colab_type": "code",
        "colab": {}
      },
      "source": [
        "df_train, df_train_label = shuffle(df_train, df_train_label, random_state = 5)"
      ],
      "execution_count": 39,
      "outputs": []
    },
    {
      "cell_type": "markdown",
      "metadata": {
        "id": "Wj5puqjbhYct",
        "colab_type": "text"
      },
      "source": [
        "### Pipeline 구축"
      ]
    },
    {
      "cell_type": "code",
      "metadata": {
        "id": "LqbG6-2fhb2N",
        "colab_type": "code",
        "colab": {}
      },
      "source": [
        "def pipeline(model):\n",
        "  model.fit(df_train, df_train_label)\n",
        "  prediction = model.predict(df_test)\n",
        "  acc = round(model.score(df_train, df_train_label)* 100, 2)\n",
        "  print(\"Acc : \", acc ,\"%\")\n",
        "  return prediction"
      ],
      "execution_count": 40,
      "outputs": []
    },
    {
      "cell_type": "code",
      "metadata": {
        "id": "bk0tOYJ3hrn0",
        "colab_type": "code",
        "colab": {
          "base_uri": "https://localhost:8080/",
          "height": 246
        },
        "outputId": "2300b9e6-e872-4307-87ef-54f252487378"
      },
      "source": [
        "rf_pred = pipeline(RandomForestClassifier(n_estimators=100))\n",
        "\n",
        "log_pred = pipeline(LogisticRegression())\n",
        "\n",
        "knn_pred = pipeline(KNeighborsClassifier(n_neighbors=4))\n",
        "\n",
        "svm_pred = pipeline(SVC())\n",
        "\n",
        "nb_pred = pipeline(GaussianNB())"
      ],
      "execution_count": 45,
      "outputs": [
        {
          "output_type": "stream",
          "text": [
            "Acc :  100.0 %\n",
            "Acc :  80.13 %\n",
            "Acc :  74.64 %\n",
            "Acc :  66.33 %\n",
            "Acc :  78.9 %\n"
          ],
          "name": "stdout"
        },
        {
          "output_type": "stream",
          "text": [
            "/usr/local/lib/python3.6/dist-packages/sklearn/linear_model/_logistic.py:940: ConvergenceWarning: lbfgs failed to converge (status=1):\n",
            "STOP: TOTAL NO. of ITERATIONS REACHED LIMIT.\n",
            "\n",
            "Increase the number of iterations (max_iter) or scale the data as shown in:\n",
            "    https://scikit-learn.org/stable/modules/preprocessing.html\n",
            "Please also refer to the documentation for alternative solver options:\n",
            "    https://scikit-learn.org/stable/modules/linear_model.html#logistic-regression\n",
            "  extra_warning_msg=_LOGISTIC_SOLVER_CONVERGENCE_MSG)\n"
          ],
          "name": "stderr"
        }
      ]
    },
    {
      "cell_type": "markdown",
      "metadata": {
        "id": "0aNm1smJ2Uwq",
        "colab_type": "text"
      },
      "source": [
        "## RF가 과소적합된것을 볼 수 있다.\n",
        "## 현재 데이터셋에서 제일 효율적인것은 로지스틱 회귀인것을 볼 수 있다."
      ]
    }
  ]
}